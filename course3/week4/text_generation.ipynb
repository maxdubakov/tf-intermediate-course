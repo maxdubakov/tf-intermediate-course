{
 "cells": [
  {
   "cell_type": "code",
   "execution_count": 2,
   "metadata": {
    "collapsed": true
   },
   "outputs": [],
   "source": [
    "import tensorflow as tf\n",
    "import numpy as np\n",
    "from tensorflow.keras.layers import Embedding, LSTM, Dense, Bidirectional\n",
    "from tensorflow.keras.models import Sequential\n",
    "from tensorflow.keras.preprocessing.text import Tokenizer\n",
    "from tensorflow.keras.preprocessing.sequence import pad_sequences"
   ]
  },
  {
   "cell_type": "code",
   "execution_count": 32,
   "outputs": [
    {
     "name": "stdout",
     "output_type": "stream",
     "text": [
      "come all ye maidens young and fair\n"
     ]
    }
   ],
   "source": [
    "# Define the lyrics of the song\n",
    "data = open('./data/irish-lyrics-eof.txt').read()\n",
    "\n",
    "# Split the long string per line and put in a list\n",
    "corpus = data.lower().split(\"\\n\")\n",
    "\n",
    "# Preview the result\n",
    "print(corpus[0])"
   ],
   "metadata": {
    "collapsed": false,
    "pycharm": {
     "name": "#%%\n"
    }
   }
  },
  {
   "cell_type": "code",
   "execution_count": 33,
   "outputs": [
    {
     "name": "stdout",
     "output_type": "stream",
     "text": [
      "total words: 2690\n"
     ]
    }
   ],
   "source": [
    "# Initialize the Tokenizer class\n",
    "tokenizer = Tokenizer()\n",
    "\n",
    "# Generate the word index dictionary\n",
    "tokenizer.fit_on_texts(corpus)\n",
    "\n",
    "# Define the total words. You add 1 for the index `0` which is just the padding token.\n",
    "total_words = len(tokenizer.word_index) + 1\n",
    "\n",
    "print(f'total words: {total_words}')"
   ],
   "metadata": {
    "collapsed": false,
    "pycharm": {
     "name": "#%%\n"
    }
   }
  },
  {
   "cell_type": "code",
   "execution_count": 34,
   "outputs": [],
   "source": [
    "# Initialize the sequences list\n",
    "input_sequences = []\n",
    "\n",
    "# Loop over every line\n",
    "for line in corpus:\n",
    "\n",
    "    # Tokenize the current line\n",
    "    token_list = tokenizer.texts_to_sequences([line])[0]\n",
    "\n",
    "    # Loop over the line several times to generate the subphrases\n",
    "    for i in range(1, len(token_list)):\n",
    "\n",
    "        # Generate the subphrase\n",
    "        n_gram_sequence = token_list[:i+1]\n",
    "\n",
    "        # Append the subphrase to the sequences list\n",
    "        input_sequences.append(n_gram_sequence)\n",
    "\n",
    "# Get the length of the longest line\n",
    "max_sequence_len = max([len(x) for x in input_sequences])\n",
    "\n",
    "# Pad all sequences\n",
    "input_sequences = np.array(pad_sequences(input_sequences, maxlen=max_sequence_len, padding='pre'))\n",
    "\n",
    "# Create inputs and label by splitting the last token in the subphrases\n",
    "xs, labels = input_sequences[:,:-1],input_sequences[:,-1]\n",
    "\n",
    "# Convert the label into one-hot arrays\n",
    "ys = tf.keras.utils.to_categorical(labels, num_classes=total_words)"
   ],
   "metadata": {
    "collapsed": false,
    "pycharm": {
     "name": "#%%\n"
    }
   }
  },
  {
   "cell_type": "code",
   "execution_count": 35,
   "outputs": [
    {
     "name": "stdout",
     "output_type": "stream",
     "text": [
      "sample sentence: ['come', 'all', 'ye', 'maidens', 'young', 'and', 'fair']\n",
      "[51, 12, 96, 1217, 48, 2, 69]\n"
     ]
    }
   ],
   "source": [
    "# Get sample sentence\n",
    "sentence = corpus[0].split()\n",
    "print(f'sample sentence: {sentence}')\n",
    "\n",
    "# Initialize token list\n",
    "token_list = []\n",
    "\n",
    "# Look up the indices of each word and append to the list\n",
    "for word in sentence:\n",
    "    token_list.append(tokenizer.word_index[word])\n",
    "\n",
    "# Print the token list\n",
    "print(token_list)"
   ],
   "metadata": {
    "collapsed": false,
    "pycharm": {
     "name": "#%%\n"
    }
   }
  },
  {
   "cell_type": "code",
   "execution_count": 36,
   "outputs": [
    {
     "name": "stdout",
     "output_type": "stream",
     "text": [
      "token list: [0 0 0 0 0 0 0 0 0 0 0 0 0 0 2]\n",
      "decoded to text: ['and']\n"
     ]
    }
   ],
   "source": [
    "# Pick element\n",
    "elem_number = 6\n",
    "\n",
    "# Print token list and phrase\n",
    "print(f'token list: {xs[elem_number]}')\n",
    "print(f'decoded to text: {tokenizer.sequences_to_texts([xs[elem_number]])}')"
   ],
   "metadata": {
    "collapsed": false,
    "pycharm": {
     "name": "#%%\n"
    }
   }
  },
  {
   "cell_type": "code",
   "execution_count": 37,
   "outputs": [
    {
     "name": "stdout",
     "output_type": "stream",
     "text": [
      "one-hot label: [0. 0. 0. ... 0. 0. 0.]\n",
      "index of label: 11\n"
     ]
    }
   ],
   "source": [
    "# Print label\n",
    "print(f'one-hot label: {ys[elem_number]}')\n",
    "print(f'index of label: {np.argmax(ys[elem_number])}')"
   ],
   "metadata": {
    "collapsed": false,
    "pycharm": {
     "name": "#%%\n"
    }
   }
  },
  {
   "cell_type": "code",
   "execution_count": 38,
   "outputs": [
    {
     "name": "stdout",
     "output_type": "stream",
     "text": [
      "token list: [   0    0    0    0    0    0    0    0    0   51   12   96 1217   48\n",
      "    2]\n",
      "decoded to text: ['come all ye maidens young and']\n",
      "one-hot label: [0. 0. 0. ... 0. 0. 0.]\n",
      "index of label: 69\n"
     ]
    }
   ],
   "source": [
    "# Pick element\n",
    "elem_number = 5\n",
    "\n",
    "# Print token list and phrase\n",
    "print(f'token list: {xs[elem_number]}')\n",
    "print(f'decoded to text: {tokenizer.sequences_to_texts([xs[elem_number]])}')\n",
    "\n",
    "# Print label\n",
    "print(f'one-hot label: {ys[elem_number]}')\n",
    "print(f'index of label: {np.argmax(ys[elem_number])}')"
   ],
   "metadata": {
    "collapsed": false,
    "pycharm": {
     "name": "#%%\n"
    }
   }
  },
  {
   "cell_type": "code",
   "execution_count": 39,
   "outputs": [
    {
     "name": "stdout",
     "output_type": "stream",
     "text": [
      "Model: \"sequential_1\"\n",
      "_________________________________________________________________\n",
      " Layer (type)                Output Shape              Param #   \n",
      "=================================================================\n",
      " embedding_1 (Embedding)     (None, 15, 100)           269000    \n",
      "                                                                 \n",
      " bidirectional_1 (Bidirectio  (None, 300)              301200    \n",
      " nal)                                                            \n",
      "                                                                 \n",
      " dense_1 (Dense)             (None, 2690)              809690    \n",
      "                                                                 \n",
      "=================================================================\n",
      "Total params: 1,379,890\n",
      "Trainable params: 1,379,890\n",
      "Non-trainable params: 0\n",
      "_________________________________________________________________\n"
     ]
    }
   ],
   "source": [
    "# Build the model\n",
    "model = Sequential([\n",
    "    Embedding(total_words, 100, input_length=max_sequence_len-1),\n",
    "    Bidirectional(LSTM(150)),\n",
    "    Dense(total_words, activation='softmax')\n",
    "])\n",
    "\n",
    "# Use categorical crossentropy because this is a multi-class problem\n",
    "model.compile(loss='categorical_crossentropy', optimizer='adam', metrics=['accuracy'])\n",
    "\n",
    "# Print the model summary\n",
    "model.summary()"
   ],
   "metadata": {
    "collapsed": false,
    "pycharm": {
     "name": "#%%\n"
    }
   }
  },
  {
   "cell_type": "code",
   "execution_count": 41,
   "outputs": [
    {
     "name": "stdout",
     "output_type": "stream",
     "text": [
      "Epoch 1/100\n",
      "377/377 [==============================] - 2s 5ms/step - loss: 4.6049 - accuracy: 0.1548\n",
      "Epoch 2/100\n",
      "377/377 [==============================] - 2s 6ms/step - loss: 4.2533 - accuracy: 0.1813\n",
      "Epoch 3/100\n",
      "377/377 [==============================] - 2s 5ms/step - loss: 3.9139 - accuracy: 0.2199\n",
      "Epoch 4/100\n",
      "377/377 [==============================] - 2s 5ms/step - loss: 3.5841 - accuracy: 0.2682\n",
      "Epoch 5/100\n",
      "377/377 [==============================] - 2s 5ms/step - loss: 3.2691 - accuracy: 0.3179\n",
      "Epoch 6/100\n",
      "377/377 [==============================] - 2s 5ms/step - loss: 2.9712 - accuracy: 0.3776\n",
      "Epoch 7/100\n",
      "377/377 [==============================] - 2s 5ms/step - loss: 2.6958 - accuracy: 0.4316\n",
      "Epoch 8/100\n",
      "377/377 [==============================] - 2s 5ms/step - loss: 2.4396 - accuracy: 0.4874\n",
      "Epoch 9/100\n",
      "377/377 [==============================] - 2s 5ms/step - loss: 2.2111 - accuracy: 0.5336\n",
      "Epoch 10/100\n",
      "377/377 [==============================] - 2s 5ms/step - loss: 2.0051 - accuracy: 0.5802\n",
      "Epoch 11/100\n",
      "377/377 [==============================] - 2s 5ms/step - loss: 1.8226 - accuracy: 0.6210\n",
      "Epoch 12/100\n",
      "377/377 [==============================] - 2s 5ms/step - loss: 1.6628 - accuracy: 0.6526\n",
      "Epoch 13/100\n",
      "377/377 [==============================] - 2s 5ms/step - loss: 1.5150 - accuracy: 0.6864\n",
      "Epoch 14/100\n",
      "377/377 [==============================] - 2s 5ms/step - loss: 1.3879 - accuracy: 0.7168\n",
      "Epoch 15/100\n",
      "377/377 [==============================] - 2s 5ms/step - loss: 1.2738 - accuracy: 0.7419\n",
      "Epoch 16/100\n",
      "377/377 [==============================] - 2s 5ms/step - loss: 1.1731 - accuracy: 0.7579\n",
      "Epoch 17/100\n",
      "377/377 [==============================] - 2s 6ms/step - loss: 1.0854 - accuracy: 0.7748\n",
      "Epoch 18/100\n",
      "377/377 [==============================] - 2s 5ms/step - loss: 1.0098 - accuracy: 0.7913\n",
      "Epoch 19/100\n",
      "377/377 [==============================] - 2s 4ms/step - loss: 0.9453 - accuracy: 0.8006\n",
      "Epoch 20/100\n",
      "377/377 [==============================] - 2s 5ms/step - loss: 0.8861 - accuracy: 0.8138\n",
      "Epoch 21/100\n",
      "377/377 [==============================] - 2s 5ms/step - loss: 0.8370 - accuracy: 0.8191\n",
      "Epoch 22/100\n",
      "377/377 [==============================] - 2s 5ms/step - loss: 0.7962 - accuracy: 0.8241\n",
      "Epoch 23/100\n",
      "377/377 [==============================] - 2s 5ms/step - loss: 0.7573 - accuracy: 0.8305\n",
      "Epoch 24/100\n",
      "377/377 [==============================] - 2s 5ms/step - loss: 0.7212 - accuracy: 0.8370\n",
      "Epoch 25/100\n",
      "377/377 [==============================] - 2s 5ms/step - loss: 0.6950 - accuracy: 0.8413\n",
      "Epoch 26/100\n",
      "377/377 [==============================] - 2s 5ms/step - loss: 0.6744 - accuracy: 0.8431\n",
      "Epoch 27/100\n",
      "377/377 [==============================] - 2s 5ms/step - loss: 0.6523 - accuracy: 0.8455\n",
      "Epoch 28/100\n",
      "377/377 [==============================] - 2s 5ms/step - loss: 0.6344 - accuracy: 0.8470\n",
      "Epoch 29/100\n",
      "377/377 [==============================] - 2s 5ms/step - loss: 0.6215 - accuracy: 0.8476\n",
      "Epoch 30/100\n",
      "377/377 [==============================] - 2s 5ms/step - loss: 0.6169 - accuracy: 0.8473\n",
      "Epoch 31/100\n",
      "377/377 [==============================] - 2s 5ms/step - loss: 0.6039 - accuracy: 0.8481\n",
      "Epoch 32/100\n",
      "377/377 [==============================] - 2s 5ms/step - loss: 0.5893 - accuracy: 0.8499\n",
      "Epoch 33/100\n",
      "377/377 [==============================] - 2s 5ms/step - loss: 0.5860 - accuracy: 0.8500\n",
      "Epoch 34/100\n",
      "377/377 [==============================] - 2s 5ms/step - loss: 0.5782 - accuracy: 0.8486\n",
      "Epoch 35/100\n",
      "377/377 [==============================] - 2s 5ms/step - loss: 0.5637 - accuracy: 0.8520\n",
      "Epoch 36/100\n",
      "377/377 [==============================] - 2s 5ms/step - loss: 0.5581 - accuracy: 0.8493\n",
      "Epoch 37/100\n",
      "377/377 [==============================] - 2s 5ms/step - loss: 0.5524 - accuracy: 0.8509\n",
      "Epoch 38/100\n",
      "377/377 [==============================] - 2s 5ms/step - loss: 0.5490 - accuracy: 0.8519\n",
      "Epoch 39/100\n",
      "377/377 [==============================] - 2s 5ms/step - loss: 0.5492 - accuracy: 0.8492\n",
      "Epoch 40/100\n",
      "377/377 [==============================] - 2s 5ms/step - loss: 0.5469 - accuracy: 0.8506\n",
      "Epoch 41/100\n",
      "377/377 [==============================] - 2s 5ms/step - loss: 0.5466 - accuracy: 0.8514\n",
      "Epoch 42/100\n",
      "377/377 [==============================] - 2s 5ms/step - loss: 0.5363 - accuracy: 0.8523\n",
      "Epoch 43/100\n",
      "377/377 [==============================] - 2s 5ms/step - loss: 0.5342 - accuracy: 0.8490\n",
      "Epoch 44/100\n",
      "377/377 [==============================] - 2s 5ms/step - loss: 0.5263 - accuracy: 0.8524\n",
      "Epoch 45/100\n",
      "377/377 [==============================] - 2s 5ms/step - loss: 0.5235 - accuracy: 0.8516\n",
      "Epoch 46/100\n",
      "377/377 [==============================] - 2s 5ms/step - loss: 0.5221 - accuracy: 0.8510\n",
      "Epoch 47/100\n",
      "377/377 [==============================] - 2s 5ms/step - loss: 0.5184 - accuracy: 0.8518\n",
      "Epoch 48/100\n",
      "377/377 [==============================] - 2s 5ms/step - loss: 0.5195 - accuracy: 0.8509\n",
      "Epoch 49/100\n",
      "377/377 [==============================] - 2s 5ms/step - loss: 0.5225 - accuracy: 0.8513\n",
      "Epoch 50/100\n",
      "377/377 [==============================] - 2s 5ms/step - loss: 0.5189 - accuracy: 0.8519\n",
      "Epoch 51/100\n",
      "377/377 [==============================] - 2s 5ms/step - loss: 0.5166 - accuracy: 0.8518\n",
      "Epoch 52/100\n",
      "377/377 [==============================] - 2s 5ms/step - loss: 0.5115 - accuracy: 0.8511\n",
      "Epoch 53/100\n",
      "377/377 [==============================] - 2s 5ms/step - loss: 0.5072 - accuracy: 0.8512\n",
      "Epoch 54/100\n",
      "377/377 [==============================] - 2s 5ms/step - loss: 0.5080 - accuracy: 0.8528\n",
      "Epoch 55/100\n",
      "377/377 [==============================] - 2s 5ms/step - loss: 0.5063 - accuracy: 0.8526\n",
      "Epoch 56/100\n",
      "377/377 [==============================] - 2s 5ms/step - loss: 0.5041 - accuracy: 0.8506\n",
      "Epoch 57/100\n",
      "377/377 [==============================] - 2s 5ms/step - loss: 0.5110 - accuracy: 0.8539\n",
      "Epoch 58/100\n",
      "377/377 [==============================] - 2s 5ms/step - loss: 0.5038 - accuracy: 0.8526\n",
      "Epoch 59/100\n",
      "377/377 [==============================] - 2s 5ms/step - loss: 0.4987 - accuracy: 0.8522\n",
      "Epoch 60/100\n",
      "377/377 [==============================] - 2s 5ms/step - loss: 0.4964 - accuracy: 0.8538\n",
      "Epoch 61/100\n",
      "377/377 [==============================] - 2s 5ms/step - loss: 0.4934 - accuracy: 0.8536\n",
      "Epoch 62/100\n",
      "377/377 [==============================] - 2s 5ms/step - loss: 0.4961 - accuracy: 0.8517\n",
      "Epoch 63/100\n",
      "377/377 [==============================] - 2s 5ms/step - loss: 0.4922 - accuracy: 0.8535\n",
      "Epoch 64/100\n",
      "377/377 [==============================] - 2s 5ms/step - loss: 0.4959 - accuracy: 0.8521\n",
      "Epoch 65/100\n",
      "377/377 [==============================] - 2s 5ms/step - loss: 0.4962 - accuracy: 0.8519\n",
      "Epoch 66/100\n",
      "377/377 [==============================] - 2s 5ms/step - loss: 0.4949 - accuracy: 0.8521\n",
      "Epoch 67/100\n",
      "377/377 [==============================] - 2s 5ms/step - loss: 0.4962 - accuracy: 0.8529\n",
      "Epoch 68/100\n",
      "377/377 [==============================] - 2s 5ms/step - loss: 0.4919 - accuracy: 0.8522\n",
      "Epoch 69/100\n",
      "377/377 [==============================] - 2s 5ms/step - loss: 0.4853 - accuracy: 0.8544\n",
      "Epoch 70/100\n",
      "377/377 [==============================] - 2s 5ms/step - loss: 0.4870 - accuracy: 0.8522\n",
      "Epoch 71/100\n",
      "377/377 [==============================] - 2s 5ms/step - loss: 0.4852 - accuracy: 0.8533\n",
      "Epoch 72/100\n",
      "377/377 [==============================] - 2s 5ms/step - loss: 0.4853 - accuracy: 0.8535\n",
      "Epoch 73/100\n",
      "377/377 [==============================] - 2s 5ms/step - loss: 0.4876 - accuracy: 0.8514\n",
      "Epoch 74/100\n",
      "377/377 [==============================] - 2s 5ms/step - loss: 0.4904 - accuracy: 0.8511\n",
      "Epoch 75/100\n",
      "377/377 [==============================] - 2s 5ms/step - loss: 0.4827 - accuracy: 0.8537\n",
      "Epoch 76/100\n",
      "377/377 [==============================] - 2s 5ms/step - loss: 0.4818 - accuracy: 0.8539\n",
      "Epoch 77/100\n",
      "377/377 [==============================] - 2s 5ms/step - loss: 0.4804 - accuracy: 0.8540\n",
      "Epoch 78/100\n",
      "377/377 [==============================] - 2s 5ms/step - loss: 0.4808 - accuracy: 0.8540\n",
      "Epoch 79/100\n",
      "377/377 [==============================] - 2s 5ms/step - loss: 0.4814 - accuracy: 0.8532\n",
      "Epoch 80/100\n",
      "377/377 [==============================] - 2s 5ms/step - loss: 0.4806 - accuracy: 0.8534\n",
      "Epoch 81/100\n",
      "377/377 [==============================] - 2s 5ms/step - loss: 0.4795 - accuracy: 0.8532\n",
      "Epoch 82/100\n",
      "377/377 [==============================] - 2s 5ms/step - loss: 0.4813 - accuracy: 0.8523\n",
      "Epoch 83/100\n",
      "377/377 [==============================] - 2s 5ms/step - loss: 0.4779 - accuracy: 0.8531\n",
      "Epoch 84/100\n",
      "377/377 [==============================] - 2s 5ms/step - loss: 0.4768 - accuracy: 0.8536\n",
      "Epoch 85/100\n",
      "377/377 [==============================] - 2s 5ms/step - loss: 0.4764 - accuracy: 0.8536\n",
      "Epoch 86/100\n",
      "377/377 [==============================] - 2s 5ms/step - loss: 0.4740 - accuracy: 0.8534\n",
      "Epoch 87/100\n",
      "377/377 [==============================] - 2s 5ms/step - loss: 0.4746 - accuracy: 0.8530\n",
      "Epoch 88/100\n",
      "377/377 [==============================] - 2s 5ms/step - loss: 0.4756 - accuracy: 0.8547\n",
      "Epoch 89/100\n",
      "377/377 [==============================] - 2s 5ms/step - loss: 0.4761 - accuracy: 0.8523\n",
      "Epoch 90/100\n",
      "377/377 [==============================] - 2s 5ms/step - loss: 0.4825 - accuracy: 0.8513\n",
      "Epoch 91/100\n",
      "377/377 [==============================] - 2s 5ms/step - loss: 0.4771 - accuracy: 0.8539\n",
      "Epoch 92/100\n",
      "377/377 [==============================] - 2s 5ms/step - loss: 0.4704 - accuracy: 0.8536\n",
      "Epoch 93/100\n",
      "377/377 [==============================] - 2s 5ms/step - loss: 0.4694 - accuracy: 0.8543\n",
      "Epoch 94/100\n",
      "377/377 [==============================] - 2s 5ms/step - loss: 0.4692 - accuracy: 0.8546\n",
      "Epoch 95/100\n",
      "377/377 [==============================] - 2s 5ms/step - loss: 0.4690 - accuracy: 0.8556\n",
      "Epoch 96/100\n",
      "377/377 [==============================] - 2s 5ms/step - loss: 0.4677 - accuracy: 0.8550\n",
      "Epoch 97/100\n",
      "377/377 [==============================] - 2s 5ms/step - loss: 0.4684 - accuracy: 0.8542\n",
      "Epoch 98/100\n",
      "377/377 [==============================] - 2s 5ms/step - loss: 0.4697 - accuracy: 0.8537\n",
      "Epoch 99/100\n",
      "377/377 [==============================] - 2s 5ms/step - loss: 0.4692 - accuracy: 0.8543\n",
      "Epoch 100/100\n",
      "377/377 [==============================] - 2s 5ms/step - loss: 0.4675 - accuracy: 0.8528\n"
     ]
    }
   ],
   "source": [
    "# Train the model\n",
    "history = model.fit(xs, ys, epochs=100)"
   ],
   "metadata": {
    "collapsed": false,
    "pycharm": {
     "name": "#%%\n"
    }
   }
  },
  {
   "cell_type": "code",
   "execution_count": null,
   "outputs": [],
   "source": [
    "import matplotlib.pyplot as plt\n",
    "\n",
    "# Plot utility\n",
    "def plot_graphs(history, string):\n",
    "    plt.plot(history.history[string])\n",
    "    plt.xlabel(\"Epochs\")\n",
    "    plt.ylabel(string)\n",
    "    plt.show()\n",
    "\n",
    "# Visualize the accuracy\n",
    "plot_graphs(history, 'accuracy')"
   ],
   "metadata": {
    "collapsed": false,
    "pycharm": {
     "name": "#%%\n"
    }
   }
  },
  {
   "cell_type": "code",
   "execution_count": 46,
   "outputs": [
    {
     "name": "stdout",
     "output_type": "stream",
     "text": [
      "Max is the sweetest of all dripping with honey to seen seen they might are thinking cry the rocky road to dublin dancing upon upon her shoulders fell in the time makes but ill be there on your eyes again well true did years well ask upon the spire of erins isle of fray blight loud reach and cold as seen as they they they take loud buy proud saxon cursed row de men who wee cold li li ivy hats sod ould bouys red dawning and your rest seen by the fray grow over the army they they they ra shore\n"
     ]
    }
   ],
   "source": [
    "# Define seed text\n",
    "seed_text = \"Max is\"\n",
    "\n",
    "# Define total words to predict\n",
    "next_words = 100\n",
    "\n",
    "# Loop until desired length is reached\n",
    "for _ in range(next_words):\n",
    "    # Convert the seed text to a token sequence\n",
    "    token_list = tokenizer.texts_to_sequences([seed_text])[0]\n",
    "\n",
    "    # Pad the sequence\n",
    "    token_list = pad_sequences([token_list], maxlen=max_sequence_len-1, padding='pre')\n",
    "\n",
    "    # Feed to the model and get the probabilities for each index\n",
    "    probabilities = model.predict(token_list)\n",
    "\n",
    "    # Get the index with the highest probability\n",
    "    predicted = np.argmax(probabilities, axis=-1)[0]\n",
    "\n",
    "    # Ignore if index is 0 because that is just the padding.\n",
    "    if predicted != 0:\n",
    "\n",
    "        # Look up the word associated with the index.\n",
    "        output_word = tokenizer.index_word[predicted]\n",
    "\n",
    "        # Combine with the seed text\n",
    "        seed_text += \" \" + output_word\n",
    "\n",
    "# Print the result\n",
    "print(seed_text)"
   ],
   "metadata": {
    "collapsed": false,
    "pycharm": {
     "name": "#%%\n"
    }
   }
  }
 ],
 "metadata": {
  "kernelspec": {
   "display_name": "Python 3",
   "language": "python",
   "name": "python3"
  },
  "language_info": {
   "codemirror_mode": {
    "name": "ipython",
    "version": 2
   },
   "file_extension": ".py",
   "mimetype": "text/x-python",
   "name": "python",
   "nbconvert_exporter": "python",
   "pygments_lexer": "ipython2",
   "version": "2.7.6"
  }
 },
 "nbformat": 4,
 "nbformat_minor": 0
}